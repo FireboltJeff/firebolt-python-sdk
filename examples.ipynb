{
 "cells": [
  {
   "cell_type": "code",
   "execution_count": null,
   "id": "5994e2ff",
   "metadata": {},
   "outputs": [],
   "source": [
    "# use debug function for pretty printing\n",
    "from devtools import debug\n",
    "\n",
    "# configure logging\n",
    "import logging\n",
    "logging.basicConfig(format=\"{asctime} - {name} - {levelname} - {message}\", style=\"{\", level=\"INFO\")"
   ]
  },
  {
   "cell_type": "markdown",
   "id": "332fcec6",
   "metadata": {},
   "source": [
    "Set an engine_name and database_name you want to operate on before proceeding"
   ]
  },
  {
   "cell_type": "code",
   "execution_count": null,
   "id": "1a0e20a7",
   "metadata": {},
   "outputs": [],
   "source": [
    "engine_name = \"\"\n",
    "database_name = \"\"\n",
    "assert engine_name\n",
    "assert database_name"
   ]
  },
  {
   "cell_type": "markdown",
   "id": "7bc111a9",
   "metadata": {},
   "source": [
    "### Run a query"
   ]
  },
  {
   "cell_type": "code",
   "execution_count": null,
   "id": "cb295309",
   "metadata": {
    "scrolled": false
   },
   "outputs": [],
   "source": [
    "from firebolt.firebolt_client import FireboltClient\n",
    "from firebolt.model.engine import Engine\n",
    "\n",
    "sql = \"SELECT 1;\"\n",
    "\n",
    "with FireboltClient.from_env() as fc:\n",
    "    engine = Engine.get_by_name(engine_name=engine_name)\n",
    "    response = engine.run_query(sql=sql)\n",
    "    \n",
    "debug(response)"
   ]
  },
  {
   "cell_type": "code",
   "execution_count": null,
   "id": "6d43826a",
   "metadata": {},
   "outputs": [],
   "source": [
    "from firebolt.firebolt_client import FireboltClient\n",
    "from firebolt.model.engine import Engine\n",
    "\n",
    "with FireboltClient.from_env() as fc:\n",
    "    engine = Engine.get_by_name(engine_name=engine_name)"
   ]
  },
  {
   "cell_type": "markdown",
   "id": "96138b51",
   "metadata": {},
   "source": [
    "### Get existing Engine by name, start, stop"
   ]
  },
  {
   "cell_type": "code",
   "execution_count": null,
   "id": "a069e9eb",
   "metadata": {
    "scrolled": true
   },
   "outputs": [],
   "source": [
    "from firebolt.firebolt_client import FireboltClient\n",
    "from firebolt.model.engine import Engine\n",
    "\n",
    "with FireboltClient.from_env() as fc:\n",
    "    engine = Engine.get_by_name(engine_name=engine_name)\n",
    "    debug(engine)\n",
    "    \n",
    "    started_engine = engine.start()\n",
    "    debug(started_engine)\n",
    "    \n",
    "    stopped_engine = engine.stop()\n",
    "    debug(stopped_engine)"
   ]
  },
  {
   "cell_type": "code",
   "execution_count": null,
   "id": "c0cc9532",
   "metadata": {},
   "outputs": [],
   "source": [
    "with FireboltClient.from_env():\n",
    "    debug(engine.get_latest_engine_revision().compute_instance_type_name)"
   ]
  },
  {
   "cell_type": "markdown",
   "id": "6aeee8cc",
   "metadata": {},
   "source": [
    "### Create default ingest & analytics engines"
   ]
  },
  {
   "cell_type": "code",
   "execution_count": null,
   "id": "9dad9f23",
   "metadata": {
    "scrolled": false
   },
   "outputs": [],
   "source": [
    "from firebolt.firebolt_client import FireboltClient\n",
    "from firebolt.model.engine import Engine\n",
    "\n",
    "with FireboltClient.from_env():\n",
    "    engine = Engine.create_ingest(name=engine_name, compute_instance_type_name=\"m5d.4xlarge\")\n",
    "    debug(engine)"
   ]
  },
  {
   "cell_type": "code",
   "execution_count": null,
   "id": "711c6f28",
   "metadata": {},
   "outputs": [],
   "source": [
    "with FireboltClient.from_env():\n",
    "    debug(engine.get_latest_engine_revision())"
   ]
  },
  {
   "cell_type": "markdown",
   "id": "db04119b",
   "metadata": {},
   "source": [
    "### Copy an Engine"
   ]
  },
  {
   "cell_type": "code",
   "execution_count": null,
   "id": "df4071a2",
   "metadata": {
    "scrolled": false
   },
   "outputs": [],
   "source": [
    "from firebolt.firebolt_client import FireboltClient\n",
    "from firebolt.model.engine import Engine\n",
    "\n",
    "with FireboltClient.from_env() as fc:\n",
    "    engine = Engine.get_by_name(engine_name=engine_name)\n",
    "    engine.name=f\"{engine_name}_copy\"\n",
    "    debug(engine)\n",
    "    debug(engine.create_with_latest_revision())"
   ]
  },
  {
   "cell_type": "markdown",
   "id": "ea32cf4b",
   "metadata": {},
   "source": [
    "### Get engines for a database"
   ]
  },
  {
   "cell_type": "code",
   "execution_count": null,
   "id": "116e3a30",
   "metadata": {},
   "outputs": [],
   "source": [
    "from firebolt.firebolt_client import FireboltClient\n",
    "from firebolt.model.database import Database\n",
    "\n",
    "with FireboltClient.from_env() as fc:\n",
    "    database = Database.get_by_name(database_name=database_name)\n",
    "    engines = database.engines\n",
    "    \n",
    "debug(engines)"
   ]
  },
  {
   "cell_type": "markdown",
   "id": "9e949d12",
   "metadata": {},
   "source": [
    "### Create engine, database, and bind them"
   ]
  },
  {
   "cell_type": "code",
   "execution_count": null,
   "id": "e4b8e07d",
   "metadata": {
    "scrolled": false
   },
   "outputs": [],
   "source": [
    "from firebolt.firebolt_client import FireboltClient\n",
    "from firebolt.model.database import Database\n",
    "from firebolt.model.engine import Engine\n",
    "\n",
    "with FireboltClient.from_env():\n",
    "    database = Database.get_by_name(database_name=database_name)\n",
    "    engine = Engine.create_ingest(name=engine_name, compute_instance_type_name=\"m5d.4xlarge\")\n",
    "    binding = engine.bind_to_database(database=database, is_default_engine=True)\n",
    "    debug(binding)"
   ]
  },
  {
   "cell_type": "markdown",
   "id": "ddf4098d",
   "metadata": {},
   "source": [
    "### Get default provider, region, and an instance_type\n",
    "An example of these might be:\n",
    " * provider: AWS\n",
    " * region: us-east-1\n",
    " * instance_type: i3.4xlarge"
   ]
  },
  {
   "cell_type": "code",
   "execution_count": null,
   "id": "8372e49f",
   "metadata": {
    "scrolled": true
   },
   "outputs": [],
   "source": [
    "from firebolt.firebolt_client import FireboltClient\n",
    "from firebolt.model.provider import providers\n",
    "from firebolt.model.region import regions\n",
    "from firebolt.model.instance_type import instance_types\n",
    "\n",
    "with FireboltClient.from_env() as fc:\n",
    "    debug(providers.default_provider)\n",
    "    debug(regions.default_region)\n",
    "    debug(instance_types.get_by_name(instance_type_name=\"i3.4xlarge\"))"
   ]
  }
 ],
 "metadata": {
  "kernelspec": {
   "display_name": "Python 3 (ipykernel)",
   "language": "python",
   "name": "python3"
  },
  "language_info": {
   "codemirror_mode": {
    "name": "ipython",
    "version": 3
   },
   "file_extension": ".py",
   "mimetype": "text/x-python",
   "name": "python",
   "nbconvert_exporter": "python",
   "pygments_lexer": "ipython3",
   "version": "3.9.6"
  }
 },
 "nbformat": 4,
 "nbformat_minor": 5
}
